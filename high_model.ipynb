{
 "cells": [
  {
   "cell_type": "code",
   "execution_count": 13,
   "id": "f730c16a",
   "metadata": {},
   "outputs": [],
   "source": [
    "from langchain_ollama import ChatOllama\n",
    "from langchain_core.prompts import ChatPromptTemplate\n",
    "import json\n",
    "import pandas as pd\n",
    "import time\n",
    "# from extracted_questions import Physics, Chemistry, Mathematics ,PhysicsA, ChemistryA, MathematicsA \n",
    "import os\n"
   ]
  },
  {
   "cell_type": "code",
   "execution_count": 14,
   "id": "defee11d",
   "metadata": {},
   "outputs": [],
   "source": [
    "physics_topics = [\"Vectors\",\"Types of Forces\",\"Newton’s Laws of Motion\",\"Friction\",\"Basics of calculus\",\"1 D Kinematics\",\"2 D Kinematics\",\"Circular Motion\",\"Work, Power and Energy\",\"Center of Mass\",\"Conservation of Momentum\",\"Rotation\",\"Fluid Statics and Dynamics\",\"Properties of Solids\",\"Surface Tension and Viscosity\",\"Simple Harmonic Motion\",\"Combination of SHM\",\"Damping and Resonance\",\"Waves on a string\",\"Sound Waves\",\"Light Waves and Interference\",\"Ray Optics\",\"Thermal Expansion and Calorimetry\",\"Kinetic Theory of Gases\",\"1st Law of Thermodynamics & specific heats\",\"Heat transfer\",\"Electrostatics\",\"Dielectrics and Capacitors\",\"Current Electricity\",\"Magnetism\",\"Electro Magnetic Induction\",\"Alternating Current\",\"Modern Physics\",\"Gravitation\"]\n",
    "\n",
    "maths_topics = [\"Number System\", \"Factors and Indices\",\"Sets\",\"Progressions and Series\",\"Quadratic Equations & Theory of Equations\",\"Logarithms\",\"Trigonometric Identities and Equations\",\"Determinants and Matrices\",\"Straight Lines and Pair of Lines\",\"Circles\",\"Permutations and Combinations\",\"Binomial Theorem\",\"Complex Numbers\",\"Solution of Triangles\",\"Functions\",\"Inverse Trigonometry\",\"Limits and Continuity\",\"Derivatives and Method of Differentiation\",\"Application of Derivatives\",\"Indefinite Integration\",\"Definite Integration\",\"Area Under the Curves\",\"Differential Equations\",\"Vectors and 3D Geometry\",\"Probability\",\"Parabola\",\"Ellipse\",\"Hyperbola\"\n",
    "]\n",
    "\n",
    "chemistry_topics =[\"Periodic Table\",\"Chemical Bonding\",\"Atomic Structure\",\"Mole Concept\",\"Gaseous State\",\"Thermodynamics\",\"Thermochemistry\",\"Chemical Equilibrium\",\"Ionic Equilibrium\",\"Redox Reactions\",\"s-block Elements\",\"Hydrogen and Related Compounds\",\"Nomenclature\",\"Solid State\",\"Boron Family\",\"Structural and Geometrical Isomerism\",\"Liquid Solutions and Colligative Properties\",\"Chemical Kinetics\",\"Surface Chemistry\",\"Carbon Family\",\"Metallurgy\",\"d-block elements\",\"f-block elements\",\"General Organic Chemistry\",\"Electrochemistry\",\"Reaction Mechanisms\",\"Tautomerism\",\"Optical Isomerism\",\"Alkanes\",\"Alkenes\",\"Alkynes\",\"Arenes\",\"Alkyl and Aryl Halides\",\"Alcohols, Phenols and Ethers\",\"Aldehydes and Ketones\",\"Nitrogen Family\",\"Amines\",\"Carboxylic Acid and Derivatives\",\"Qualitative Analysis\",\"Coordination compounds\",\"Biomolecules and Polymers\",\"16, 17 and 18 family\",\"Practical Organic Chemistry\"\n",
    "]\n",
    "maths_questions = [    \"Q.1 If y = f(x) makes positive intercepts of 2 and 0 units on the x and y axes respectively and encloses an area of 3/4 square units with the axes, then ∫₀² xf'(x)dx is (A) 3/2 (B) 1 (C) 5/4 (D) -3/4\"]\n",
    "\n",
    "\n",
    "\n",
    "\n"
   ]
  },
  {
   "cell_type": "code",
   "execution_count": 15,
   "id": "4f649a03",
   "metadata": {},
   "outputs": [],
   "source": [
    "accurate_prompt = strict_prompt = ChatPromptTemplate.from_template(\"\"\"\n",
    "SYSTEM:\n",
    "You are a classification assistant. You MUST output ONLY a single valid JSON object and NOTHING else.\n",
    "Use only the exact category names listed below (exact spelling). Do not invent or alter category names.\n",
    "\n",
    "Categories:\n",
    "{topics}\n",
    "\n",
    "RULES (must follow exactly):\n",
    "1) Output only ONE JSON object. No explanation, no backticks, no extra text.\n",
    "2) Use ONLY keys from the categories above (exact spellings).\n",
    "3) The numeric values must be intezers and their sum must be exactly 100.0.\n",
    "4) If a question clearly belongs to a single category, give that category 100.0.\n",
    "5) If ambiguous, split percentage accordingly but still sum to 100.0.\n",
    "6) classify based on the answer, not just the question and if you cannot solve skip the question.\n",
    "7) properly read and understand the question and answer before classifying.\n",
    "8) strictly add only non zero results to the JSON object.\n",
    "\n",
    "\n",
    "\n",
    "QUESTION: {questions}\n",
    "\n",
    "\n",
    "\n",
    "OUTPUT (ONLY the valid JSON object):\n",
    "\"\"\")"
   ]
  },
  {
   "cell_type": "code",
   "execution_count": 16,
   "id": "4b8fb01e",
   "metadata": {},
   "outputs": [],
   "source": [
    "model1 = ChatOllama(model=\"llama2:70b\", temperature=0)\n",
    "model2 = ChatOllama(model=\"llama3.1:70b\", temperature=0)\n",
    "model3 = ChatOllama(model=\"llama-pro:8b-instruct-fp16\", temperature=0)\n",
    "model4 = ChatOllama(model=\"qwen2.5-coder:32b\", temperature=0)\n",
    "model5 = ChatOllama(model=\"qwen3:14b\", temperature=0)\n",
    "model6 = ChatOllama(model=\"gemma2:27b\", temperature=0)  # Add or remove\n",
    "models =[model3,model4,model5,model6]  # Add or remove"
   ]
  },
  {
   "cell_type": "code",
   "execution_count": 17,
   "id": "ce2d7bda",
   "metadata": {},
   "outputs": [],
   "source": [
    "def get_topic_vector(question,topic_string,model):\n",
    "    \"\"\"Get the topic vector for a single question\"\"\"\n",
    "    try:\n",
    "        chain = accurate_prompt | model\n",
    "        response = chain.invoke({\"questions\": question ,\"topics\":topic_string})\n",
    "        response_text = response.content.strip()\n",
    "        json_start = response_text.find('{')\n",
    "        json_end = response_text.rfind('}') + 1\n",
    "        json_str = response_text[json_start:json_end]       \n",
    "        return json.loads(json_str)\n",
    "    except Exception as e:\n",
    "        print(f\"Error: {e}\")\n",
    "        return {\"Error\": 100.0}\n",
    "    "
   ]
  },
  {
   "cell_type": "code",
   "execution_count": 18,
   "id": "1b249d92",
   "metadata": {},
   "outputs": [
    {
     "name": "stdout",
     "output_type": "stream",
     "text": [
      "Using model: model='llama-pro:8b-instruct-fp16' temperature=0.0\n",
      "Processing question 1...\n",
      "{'question_id': 1, 'question': \"Q.1 If y = f(x) makes positive intercepts of 2 and 0 units on the x and y axes respectively and encloses an area of 3/4 square units with the axes, then ∫₀² xf'(x)dx is (A) 3/2 (B) 1 (C) 5/4 (D) -3/4\", 'topic_vector': {'Number System': 0, 'Factors and Indices': 0, 'Sets': 0, 'Progressions and Series': 0, 'Quadratic Equations & Theory of Equations': 0, 'Logarithms': 0, 'Trigonometric Identities and Equations': 0, 'Determinants and Matrices': 0, 'Straight Lines and Pair of Lines': 100.0, 'Circles': 0, 'Permutations and Combinations': 0, 'Binomial Theorem': 0, 'Complex Numbers': 0, 'Solution of Triangles': 0, 'Functions': 100.0, 'Inverse Trigonometry': 0, 'Limits and Continuity': 0, 'Derivatives and Method of Differentiation': 0, 'Application of Derivatives': 0, 'Indefinite Integration': 0, 'Definite Integration': 0, 'Area Under the Curves': 0, 'Differential Equations': 0, 'Vectors and 3D Geometry': 0, 'Probability': 0, 'Parabola': 0, 'Ellipse': 0, 'Hyperbola': 0}}\n",
      "Using model: model='qwen2.5-coder:32b' temperature=0.0\n",
      "Processing question 1...\n",
      "{'question_id': 1, 'question': \"Q.1 If y = f(x) makes positive intercepts of 2 and 0 units on the x and y axes respectively and encloses an area of 3/4 square units with the axes, then ∫₀² xf'(x)dx is (A) 3/2 (B) 1 (C) 5/4 (D) -3/4\", 'topic_vector': {'Indefinite Integration': 60, 'Definite Integration': 40}}\n",
      "Using model: model='qwen3:14b' temperature=0.0\n",
      "Processing question 1...\n",
      "{'question_id': 1, 'question': \"Q.1 If y = f(x) makes positive intercepts of 2 and 0 units on the x and y axes respectively and encloses an area of 3/4 square units with the axes, then ∫₀² xf'(x)dx is (A) 3/2 (B) 1 (C) 5/4 (D) -3/4\", 'topic_vector': {'Definite Integration': 100.0}}\n",
      "Using model: model='gemma2:27b' temperature=0.0\n",
      "Processing question 1...\n",
      "{'question_id': 1, 'question': \"Q.1 If y = f(x) makes positive intercepts of 2 and 0 units on the x and y axes respectively and encloses an area of 3/4 square units with the axes, then ∫₀² xf'(x)dx is (A) 3/2 (B) 1 (C) 5/4 (D) -3/4\", 'topic_vector': {'Application of Derivatives': 100}}\n"
     ]
    }
   ],
   "source": [
    "for i in range(1):\n",
    "        all_results = []\n",
    "        for model in models:\n",
    "            print(f\"Using model: {model}\")\n",
    "            \n",
    "            for j, q in enumerate(maths_questions):\n",
    "                print(f\"Processing question {j+1}...\")\n",
    "                if j%10 == 0 and j != 0:\n",
    "                    time.sleep(10)  # Pause for 2 seconds every 10 questions to avoid rate limits\n",
    "                topic_data = get_topic_vector(q,maths_topics,model)\n",
    "            \n",
    "                all_results.append({\n",
    "                    \"question_id\": j+1,\n",
    "                    \"question\": q,\n",
    "                    \"topic_vector\": topic_data\n",
    "                })\n",
    "                print(all_results[-1])"
   ]
  }
 ],
 "metadata": {
  "kernelspec": {
   "display_name": "Python 3",
   "language": "python",
   "name": "python3"
  },
  "language_info": {
   "codemirror_mode": {
    "name": "ipython",
    "version": 3
   },
   "file_extension": ".py",
   "mimetype": "text/x-python",
   "name": "python",
   "nbconvert_exporter": "python",
   "pygments_lexer": "ipython3",
   "version": "3.13.7"
  }
 },
 "nbformat": 4,
 "nbformat_minor": 5
}
